{
  "nbformat": 4,
  "nbformat_minor": 0,
  "metadata": {
    "colab": {
      "name": "Extraindo dados de PDF com Python .ipynb",
      "provenance": [],
      "authorship_tag": "ABX9TyM6oph0kv6kuIA24p0TKVav",
      "include_colab_link": true
    },
    "kernelspec": {
      "name": "python3",
      "display_name": "Python 3"
    }
  },
  "cells": [
    {
      "cell_type": "markdown",
      "metadata": {
        "id": "view-in-github",
        "colab_type": "text"
      },
      "source": [
        "<a href=\"https://colab.research.google.com/github/CidOSJr/data-science-portfolio/blob/master/Notebooks/Extraindo_dados_de_PDF_com_Python_.ipynb\" target=\"_parent\"><img src=\"https://colab.research.google.com/assets/colab-badge.svg\" alt=\"Open In Colab\"/></a>"
      ]
    },
    {
      "cell_type": "markdown",
      "metadata": {
        "id": "QyysZICfM_9E",
        "colab_type": "text"
      },
      "source": [
        "# **Extraindo dados de PDF com Python e a Biblioteca pdfpluter**\n",
        "\n",
        "<img src='https://image.freepik.com/free-vector/futuristic-robot-constructor-flat-icon-set_74855-5847.jpg'>\n",
        "\n",
        "Python é uma linguagem de programação muito usada para automatização de tarefas, a linguagem possui várias bibliotecas úteis para automatização. Nesse artigo vamos trabalhar com a biblioteca pdfplumter, para extração de dados de arquivos em pdf,e o google colab vai ser usado para rodar os códigos.\n",
        "\n",
        "\n",
        "**Mas por que automatizar tarefas?**\n",
        "\n",
        "\n",
        "Porque permite que sua empresa libere sua equipe de muitas ações repetidas e se concentre em deveres e tarefas mais importantes, e como profissional vai ser um diferencial, o novos tempos já mostram que programação vai ser o novo inglês. \n",
        "\n",
        "Vamos extrair o que foi  arrecadado nos 5 primeiros meses do ano de 2020, no final vamos apresentar os valores com o total. Os PDF’s  podem ser acessados clicando [aqui](http://www.transparencia.salvador.ba.gov.br/Modulos/Receitas.aspx).\n",
        "\n"
      ]
    },
    {
      "cell_type": "code",
      "metadata": {
        "id": "q1rbE4yLNQxx",
        "colab_type": "code",
        "colab": {
          "base_uri": "https://localhost:8080/",
          "height": 34
        },
        "outputId": "f346c9ad-9fbf-4f4c-bad7-c1e12025e595"
      },
      "source": [
        "# Montar o gdrive no Google Colab\n",
        "from google.colab import drive\n",
        "\n",
        "drive.mount('/content/gdrive')"
      ],
      "execution_count": 4,
      "outputs": [
        {
          "output_type": "stream",
          "text": [
            "Drive already mounted at /content/gdrive; to attempt to forcibly remount, call drive.mount(\"/content/gdrive\", force_remount=True).\n"
          ],
          "name": "stdout"
        }
      ]
    },
    {
      "cell_type": "code",
      "metadata": {
        "id": "fwnLcr_XM18q",
        "colab_type": "code",
        "colab": {
          "base_uri": "https://localhost:8080/",
          "height": 394
        },
        "outputId": "370e1ca0-7cda-443a-9d76-0f0b8b6337f2"
      },
      "source": [
        "# Fazer o dowload da biblioteca pdfplumber\n",
        "!pip install pdfplumber"
      ],
      "execution_count": 5,
      "outputs": [
        {
          "output_type": "stream",
          "text": [
            "Collecting pdfplumber\n",
            "  Downloading https://files.pythonhosted.org/packages/2c/06/eb883f00ea3d78a2f860c593645498c39120f763d30b099cc98c4392b312/pdfplumber-0.5.23.tar.gz\n",
            "Collecting pdfminer.six==20200517\n",
            "\u001b[?25l  Downloading https://files.pythonhosted.org/packages/b0/c0/ef1c8758bbd86edb10b5443700aac97d0ba27a9ca2e7696db8cd1fdbd5a8/pdfminer.six-20200517-py3-none-any.whl (5.6MB)\n",
            "\u001b[K     |████████████████████████████████| 5.6MB 6.6MB/s \n",
            "\u001b[?25hRequirement already satisfied: Pillow>=7.0.0 in /usr/local/lib/python3.6/dist-packages (from pdfplumber) (7.0.0)\n",
            "Collecting Wand\n",
            "\u001b[?25l  Downloading https://files.pythonhosted.org/packages/82/e4/d00cdc270cad06a2dd2d3095ffe0f6541d69104db504c4e94de805e3c6e0/Wand-0.6.2-py2.py3-none-any.whl (130kB)\n",
            "\u001b[K     |████████████████████████████████| 133kB 43.4MB/s \n",
            "\u001b[?25hRequirement already satisfied: sortedcontainers in /usr/local/lib/python3.6/dist-packages (from pdfminer.six==20200517->pdfplumber) (2.2.2)\n",
            "Collecting pycryptodome\n",
            "\u001b[?25l  Downloading https://files.pythonhosted.org/packages/17/55/17fa0b55849dc135f7bc400993a9206bf06d1b5d9520b0bc8d47c57aaef5/pycryptodome-3.9.8-cp36-cp36m-manylinux1_x86_64.whl (13.7MB)\n",
            "\u001b[K     |████████████████████████████████| 13.7MB 310kB/s \n",
            "\u001b[?25hRequirement already satisfied: chardet; python_version > \"3.0\" in /usr/local/lib/python3.6/dist-packages (from pdfminer.six==20200517->pdfplumber) (3.0.4)\n",
            "Building wheels for collected packages: pdfplumber\n",
            "  Building wheel for pdfplumber (setup.py) ... \u001b[?25l\u001b[?25hdone\n",
            "  Created wheel for pdfplumber: filename=pdfplumber-0.5.23-cp36-none-any.whl size=29176 sha256=604a719638873ab19b3b009352988909939b1dcc2db885cef700a58036a939b8\n",
            "  Stored in directory: /root/.cache/pip/wheels/f6/4d/ae/abb7b92fbed5d09a835c259f26d2a3223ea929a0ad6d322097\n",
            "Successfully built pdfplumber\n",
            "Installing collected packages: pycryptodome, pdfminer.six, Wand, pdfplumber\n",
            "Successfully installed Wand-0.6.2 pdfminer.six-20200517 pdfplumber-0.5.23 pycryptodome-3.9.8\n"
          ],
          "name": "stdout"
        }
      ]
    },
    {
      "cell_type": "code",
      "metadata": {
        "id": "iNRwopTyM-2C",
        "colab_type": "code",
        "colab": {}
      },
      "source": [
        "# carregar bibliotecas\n",
        "import pdfplumber\n",
        "import os"
      ],
      "execution_count": 6,
      "outputs": []
    },
    {
      "cell_type": "code",
      "metadata": {
        "id": "h1aTLhczOtF_",
        "colab_type": "code",
        "colab": {}
      },
      "source": [
        "# mudar para a pasta que está localizada os PDF's no meu caso o caminho é:\n",
        "#  /content/gdrive/My Drive/dados_transparencia_ssa\n",
        "os.chdir('/content/gdrive/My Drive/dados_transparencia_ssa')"
      ],
      "execution_count": 7,
      "outputs": []
    },
    {
      "cell_type": "code",
      "metadata": {
        "id": "lcvody2RPBmD",
        "colab_type": "code",
        "colab": {
          "base_uri": "https://localhost:8080/",
          "height": 102
        },
        "outputId": "0084f664-5815-4551-cfe9-db49469164f3"
      },
      "source": [
        "# listar os arquivos na unidade \n",
        "os.listdir()"
      ],
      "execution_count": 8,
      "outputs": [
        {
          "output_type": "execute_result",
          "data": {
            "text/plain": [
              "['ContasOrçamentária_010120.pdf',\n",
              " 'ContasOrçamentária_010220.pdf',\n",
              " 'ContasOrçamentária_010320.pdf',\n",
              " 'ContasOrçamentária_010420.pdf',\n",
              " 'ContasOrçamentária_010520.pdf']"
            ]
          },
          "metadata": {
            "tags": []
          },
          "execution_count": 8
        }
      ]
    },
    {
      "cell_type": "code",
      "metadata": {
        "id": "d71FRBBXPCgr",
        "colab_type": "code",
        "colab": {}
      },
      "source": [
        "# atribuir o relatório pdf a variável relatório\n",
        "relatorio = pdfplumber.open('ContasOrçamentária_010120.pdf')"
      ],
      "execution_count": 55,
      "outputs": []
    },
    {
      "cell_type": "code",
      "metadata": {
        "id": "jv-yI7_GPg-q",
        "colab_type": "code",
        "colab": {
          "base_uri": "https://localhost:8080/",
          "height": 493
        },
        "outputId": "23067d58-7ab2-4056-9773-08cfdf2e1b7d"
      },
      "source": [
        "# listar páginas do relatório\n",
        "relatorio.pages"
      ],
      "execution_count": 12,
      "outputs": [
        {
          "output_type": "execute_result",
          "data": {
            "text/plain": [
              "[<Page:1>,\n",
              " <Page:2>,\n",
              " <Page:3>,\n",
              " <Page:4>,\n",
              " <Page:5>,\n",
              " <Page:6>,\n",
              " <Page:7>,\n",
              " <Page:8>,\n",
              " <Page:9>,\n",
              " <Page:10>,\n",
              " <Page:11>,\n",
              " <Page:12>,\n",
              " <Page:13>,\n",
              " <Page:14>,\n",
              " <Page:15>,\n",
              " <Page:16>,\n",
              " <Page:17>,\n",
              " <Page:18>,\n",
              " <Page:19>,\n",
              " <Page:20>,\n",
              " <Page:21>,\n",
              " <Page:22>,\n",
              " <Page:23>,\n",
              " <Page:24>,\n",
              " <Page:25>,\n",
              " <Page:26>,\n",
              " <Page:27>,\n",
              " <Page:28>]"
            ]
          },
          "metadata": {
            "tags": []
          },
          "execution_count": 12
        }
      ]
    },
    {
      "cell_type": "code",
      "metadata": {
        "id": "J7Od4je3Pi4j",
        "colab_type": "code",
        "colab": {
          "base_uri": "https://localhost:8080/",
          "height": 34
        },
        "outputId": "eabc54e7-f834-44bb-e917-342dfaa33d7d"
      },
      "source": [
        "# selecionar a página 1, que está no índice 0\n",
        "relatorio.pages[0]"
      ],
      "execution_count": 20,
      "outputs": [
        {
          "output_type": "execute_result",
          "data": {
            "text/plain": [
              "<Page:1>"
            ]
          },
          "metadata": {
            "tags": []
          },
          "execution_count": 20
        }
      ]
    },
    {
      "cell_type": "code",
      "metadata": {
        "id": "qTRESwi8R6Dg",
        "colab_type": "code",
        "colab": {
          "base_uri": "https://localhost:8080/",
          "height": 154
        },
        "outputId": "403da6c2-8cb3-4f61-a719-d69de40be6b3"
      },
      "source": [
        "# O método extract_text(), extrai o texto sem formatação\n",
        "relatorio.pages[0].extract_text()"
      ],
      "execution_count": 23,
      "outputs": [
        {
          "output_type": "execute_result",
          "data": {
            "application/vnd.google.colaboratory.intrinsic+json": {
              "type": "string"
            },
            "text/plain": [
              "'Receitas >> Por Tipo de Administração >> Contas Orçamentárias\\nPeríodo: 01/2020\\nTipo de Administração: Direta\\nContas Orçamentárias Previsto no Exercício Arrecadada no Mês Acumulado até o Mês Saldo\\nTOTAL DA RECEITA ORÇAMENTÁRIA: R$ 8.036.935.892,00 R$ 540.680.464,66 R$ 540.680.464,66 R$ 7.496.255.427,34\\nReceitas Correntes R$ 6.765.344.879,00  R$ 470.680.454,70  R$ 470.680.454,70  R$ 6.294.664.424,30 \\n    Impostos, Taxas e Contribuições de  R$ 2.731.002.000,00  R$ 195.063.431,69  R$ 195.063.431,69  R$ 2.535.938.568,31 \\nMelhoria\\n        Impostos R$ 2.410.905.000,00  R$ 175.485.639,86  R$ 175.485.639,86  R$ 2.235.419.360,14 \\n            Impostos sobre a Renda e  R$ 266.365.000,00  R$ 19.623.761,45  R$ 19.623.761,45  R$ 246.741.238,55 \\nProventos de Qualquer Natureza\\n                Imposto sobre a Renda de  R$ 2.416.000,00  R$ 84.082,89  R$ 84.082,89  R$ 2.331.917,11 \\nPessoa Física - IRPF\\n                    Imposto sobre a Renda de  R$ 2.416.000,00  R$ 84.082,89  R$ 84.082,89  R$ 2.331.917,11 \\nPessoa Física - IRPF - Principal\\n                        Imposto S/ Renda Retido  R$ 1.450.000,00  R$ 84.082,89  R$ 84.082,89  R$ 1.365.917,11 \\nna Fonte Pessoa Física - Fonte 00 (60%)\\n                        Imposto S/ Renda Retido  R$ 604.000,00  R$ 0,00    R$ 0,00    R$ 604.000,00 \\nna Fonte Pessoa Física - Fonte 01 (25%)\\n                        Imposto S/ Renda Retido  R$ 362.000,00  R$ 0,00    R$ 0,00    R$ 362.000,00 \\nna Fonte Pessoa Física - Fonte 02 (15%)\\n                Imposto sobre a Renda - Retido  R$ 263.949.000,00  R$ 19.539.678,56  R$ 19.539.678,56  R$ 244.409.321,44 \\nna Fonte\\n                    Imposto sobre a Renda -  R$ 246.513.000,00  R$ 18.692.636,99  R$ 18.692.636,99  R$ 227.820.363,01 \\nRetido na Fonte - Trabalho - Principal\\n                        Imposto de Renda Retido  R$ 122.908.000,00  R$ 18.692.636,99  R$ 18.692.636,99  R$ 104.215.363,01 \\nnas Fontes s/ Rend do Trabalho - Fonte \\n00 (60%)\\n                        Imposto de Renda Retido  R$ 61.628.000,00  R$ 0,00    R$ 0,00    R$ 61.628.000,00 \\nnas Fontes s/ Rend do Trabalho - Fonte \\n01 (25%)\\n                        Imposto de Renda Retido  R$ 61.977.000,00  R$ 0,00    R$ 0,00    R$ 61.977.000,00 \\nnas Fontes s/ Rend do Trabalho - Fonte \\n02 (15%)\\n                    Imposto sobre a Renda -  R$ 17.436.000,00  R$ 847.041,57  R$ 847.041,57  R$ 16.588.958,43 \\nRetido na Fonte - Outros Rendimentos - \\nPrincipal\\n                        Imposto de Renda Retido  R$ 10.462.000,00  R$ 847.041,57  R$ 847.041,57  R$ 9.614.958,43 \\nnas Fontes s/ O Rendimentos - Fonte 00 \\n(60%)\\n                        Imposto de Renda Retido  R$ 4.359.000,00  R$ 0,00    R$ 0,00    R$ 4.359.000,00 \\nnas Fontes s/ O Rendimentos - Fonte 01 \\n(25%)\\n                        Imposto de Renda Retido  R$ 2.615.000,00  R$ 0,00    R$ 0,00    R$ 2.615.000,00 \\nnas Fontes s/ O Rendimentos - Fonte 02 \\n(15%)\\n            Impostos Específicos de Estados,  R$ 2.144.540.000,00  R$ 155.861.878,41  R$ 155.861.878,41  R$ 1.988.678.121,59 \\nDF e Municípios\\n                Impostos sobre o Patrimônio e  R$ 954.966.000,00  R$ 64.901.495,46  R$ 64.901.495,46  R$ 890.064.504,54 \\na Renda para Estados/DF/Municípios\\nPágina 1 de 28\\nImpresso em: 04/09/2020 às 16:48:08\\nTodos os direitos reservados © CPS - 2011'"
            ]
          },
          "metadata": {
            "tags": []
          },
          "execution_count": 23
        }
      ]
    },
    {
      "cell_type": "code",
      "metadata": {
        "id": "4R7M4I8KP7T3",
        "colab_type": "code",
        "colab": {}
      },
      "source": [
        "# usar o método split para separar as quebras de linhas, que é representada com o \\n\n",
        "relatorio.pages[0].extract_text().split('\\n')"
      ],
      "execution_count": null,
      "outputs": []
    },
    {
      "cell_type": "code",
      "metadata": {
        "id": "cjTDvCzVQbTZ",
        "colab_type": "code",
        "colab": {
          "base_uri": "https://localhost:8080/",
          "height": 35
        },
        "outputId": "4c3ff766-e142-48b7-e3d6-b032de6fea1a"
      },
      "source": [
        "# selecionar a posição 5 (onde está  localizado o arrecadação do mês)\n",
        "relatorio.pages[0].extract_text().split('\\n')[4]"
      ],
      "execution_count": 71,
      "outputs": [
        {
          "output_type": "execute_result",
          "data": {
            "application/vnd.google.colaboratory.intrinsic+json": {
              "type": "string"
            },
            "text/plain": [
              "'TOTAL DA RECEITA ORÇAMENTÁRIA: R$ 8.036.935.892,00 R$ 540.680.464,66 R$ 540.680.464,66 R$ 7.496.255.427,34'"
            ]
          },
          "metadata": {
            "tags": []
          },
          "execution_count": 71
        }
      ]
    },
    {
      "cell_type": "code",
      "metadata": {
        "id": "m5RDA394RWsp",
        "colab_type": "code",
        "colab": {
          "base_uri": "https://localhost:8080/",
          "height": 35
        },
        "outputId": "6e96b0a1-7188-41a0-ba51-aa74740df46d"
      },
      "source": [
        "# split novamente para separar pelo R$, o valor que queremos estar na posição 3\n",
        "relatorio.pages[0].extract_text().split('\\n')[4].split('R$')[3]"
      ],
      "execution_count": 73,
      "outputs": [
        {
          "output_type": "execute_result",
          "data": {
            "application/vnd.google.colaboratory.intrinsic+json": {
              "type": "string"
            },
            "text/plain": [
              "' 540.680.464,66 '"
            ]
          },
          "metadata": {
            "tags": []
          },
          "execution_count": 73
        }
      ]
    },
    {
      "cell_type": "code",
      "metadata": {
        "id": "pRLTClqhSt80",
        "colab_type": "code",
        "colab": {
          "base_uri": "https://localhost:8080/",
          "height": 35
        },
        "outputId": "62010b49-c8e7-4202-f5e4-ecb4065abe40"
      },
      "source": [
        "# agora valor limpar os espaços em branco com o método strip\n",
        "relatorio.pages[0].extract_text().split('\\n')[4].split('R$')[3].strip()"
      ],
      "execution_count": 74,
      "outputs": [
        {
          "output_type": "execute_result",
          "data": {
            "application/vnd.google.colaboratory.intrinsic+json": {
              "type": "string"
            },
            "text/plain": [
              "'540.680.464,66'"
            ]
          },
          "metadata": {
            "tags": []
          },
          "execution_count": 74
        }
      ]
    },
    {
      "cell_type": "code",
      "metadata": {
        "colab_type": "code",
        "id": "oGYyMXuBTNIX",
        "colab": {
          "base_uri": "https://localhost:8080/",
          "height": 35
        },
        "outputId": "1c896164-af94-4b7c-b549-009117ebf591"
      },
      "source": [
        "# converter para float, vamos usar o método replace\n",
        "relatorio.pages[0].extract_text().split('\\n')[4].split('R$')[3].strip().replace('.', '').replace(',', '.')"
      ],
      "execution_count": 75,
      "outputs": [
        {
          "output_type": "execute_result",
          "data": {
            "application/vnd.google.colaboratory.intrinsic+json": {
              "type": "string"
            },
            "text/plain": [
              "'540680464.66'"
            ]
          },
          "metadata": {
            "tags": []
          },
          "execution_count": 75
        }
      ]
    },
    {
      "cell_type": "markdown",
      "metadata": {
        "id": "whWjUGh8Tymo",
        "colab_type": "text"
      },
      "source": [
        "Agora que realizamos a limpeza dos dados, podemos usar criar uma função para carregar os relatórios em pdf e apresentar o orçamento mes a mes e dizer o total no final.\n",
        " \n"
      ]
    },
    {
      "cell_type": "code",
      "metadata": {
        "id": "9AMr6yQFTKi-",
        "colab_type": "code",
        "colab": {}
      },
      "source": [
        "def relotorio_orcamento_ssa(list_relatorios):\n",
        "  contador = 0\n",
        "  for indice, relatorio in enumerate(list_relatorios):\n",
        "    with pdfplumber.open(relatorio) as relatorio:    \n",
        "      page = relatorio.pages[0]\n",
        "      valor = page.extract_text().split('\\n')[4].split('R$')[3].strip().replace('.', '').replace(',', '.')\n",
        "      print(f'Valor do relatórios do mês 0{indice+1}/2020: R$ {valor}')\n",
        "      valor = float(valor)\n",
        "    contador += valor\n",
        "  print(f'Total: R$ {contador}')\n"
      ],
      "execution_count": 81,
      "outputs": []
    },
    {
      "cell_type": "code",
      "metadata": {
        "id": "N_Kj5T1vU08M",
        "colab_type": "code",
        "colab": {
          "base_uri": "https://localhost:8080/",
          "height": 102
        },
        "outputId": "5a26a73c-502f-4f2e-cac2-0b70753d5c64"
      },
      "source": [
        "# listar todos os relatórios da pasta\n",
        "os.listdir() "
      ],
      "execution_count": 82,
      "outputs": [
        {
          "output_type": "execute_result",
          "data": {
            "text/plain": [
              "['ContasOrçamentária_010120.pdf',\n",
              " 'ContasOrçamentária_010220.pdf',\n",
              " 'ContasOrçamentária_010320.pdf',\n",
              " 'ContasOrçamentária_010420.pdf',\n",
              " 'ContasOrçamentária_010520.pdf']"
            ]
          },
          "metadata": {
            "tags": []
          },
          "execution_count": 82
        }
      ]
    },
    {
      "cell_type": "code",
      "metadata": {
        "id": "rMQrdMeMU28k",
        "colab_type": "code",
        "colab": {}
      },
      "source": [
        "# atribuir o comando para uma variavel\n",
        "list_relatorio = os.listdir() "
      ],
      "execution_count": 83,
      "outputs": []
    },
    {
      "cell_type": "code",
      "metadata": {
        "id": "nTrbkLHdW7Bm",
        "colab_type": "code",
        "colab": {
          "base_uri": "https://localhost:8080/",
          "height": 119
        },
        "outputId": "197720ec-eefd-4262-8b9e-3053ee959ebc"
      },
      "source": [
        "# chamar a funcão:\n",
        "relotorio_orcamento_ssa(list_relatorio)"
      ],
      "execution_count": 84,
      "outputs": [
        {
          "output_type": "stream",
          "text": [
            "Valor do relatórios do mês 01/2020: R$ 540680464.66\n",
            "Valor do relatórios do mês 02/2020: R$ 1312943795.71\n",
            "Valor do relatórios do mês 03/2020: R$ 1954059019.47\n",
            "Valor do relatórios do mês 04/2020: R$ 2532975997.39\n",
            "Valor do relatórios do mês 05/2020: R$ 3029218518.28\n",
            "Total: R$ 9369877795.51\n"
          ],
          "name": "stdout"
        }
      ]
    },
    {
      "cell_type": "markdown",
      "metadata": {
        "id": "IsQ4Uyp2cIfg",
        "colab_type": "text"
      },
      "source": [
        "**Referência:**\n",
        "\n",
        "* http://www.transparencia.salvador.ba.gov.br/Modulos/Receitas.aspx\n",
        "* https://colab.research.google.com/notebooks/io.ipynb#scrollTo=WgXqE02UofZG\n",
        "* https://github.com/jsvine/pdfplumber\n",
        "* https://wiki.python.org.br/ManipulandoStringsComPython\n"
      ]
    }
  ]
}