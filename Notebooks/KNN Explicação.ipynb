{
 "cells": [
  {
   "cell_type": "markdown",
   "metadata": {},
   "source": [
    "## **K Nearest Neighboors - KNN**\n",
    "**O que é ?**\n",
    "\n",
    "KNN ou vizinhos mais próximos é uma algoritmo de aprendizado de maquina supervisionado, ele é um método baseado em calculo de distância. \n",
    "Pode ser utilizado tanto para problema de classificação como de regressão.\n",
    "\n",
    "\n",
    "**Parâmetro k  (n_neighbors)**\n",
    "\n",
    "**O que é?**\n",
    "\n",
    "Especifica quantos vizinhos vão ser comparados, é de vital importância para o melhor resultado do modelo. Utiliza diferentes métricas de distâncias, por default a escolhida é a euclidiana.\n",
    "\n",
    "No exemplo abaixo  parâmetro k=3, a **class B** tem mais valores representados, já quando k=6 a **Class A** passa a tem mais representatividades.\n",
    "![enter image description here](https://miro.medium.com/proxy/1*hncgU7vWLBsRvc8WJhxlkQ.png)\n",
    "\n",
    "\n",
    "**GridSearch**\n",
    "\n",
    "O hiperparâmetro é usado para otimização de parametros do algoritmos de machine learning, por exemplo knn, svm etc.\n",
    "\n",
    "\n",
    "\n",
    "Referencias:\n",
    "* https://scikit-learn.org/stable/modules/neighbors\n",
    "* https://scikit-learn.org/stable/modules/grid_search"
   ]
  },
  {
   "cell_type": "code",
   "execution_count": null,
   "metadata": {},
   "outputs": [],
   "source": []
  }
 ],
 "metadata": {
  "kernelspec": {
   "display_name": "Python 3",
   "language": "python",
   "name": "python3"
  },
  "language_info": {
   "codemirror_mode": {
    "name": "ipython",
    "version": 3
   },
   "file_extension": ".py",
   "mimetype": "text/x-python",
   "name": "python",
   "nbconvert_exporter": "python",
   "pygments_lexer": "ipython3",
   "version": "3.8.5"
  }
 },
 "nbformat": 4,
 "nbformat_minor": 4
}
