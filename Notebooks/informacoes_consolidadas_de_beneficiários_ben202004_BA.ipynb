{
  "nbformat": 4,
  "nbformat_minor": 0,
  "metadata": {
    "colab": {
      "name": "informacoes-consolidadas-de-beneficiários_ben202004_BA.ipynb",
      "provenance": [],
      "collapsed_sections": [],
      "mount_file_id": "110W34TeFwJVPoWxdZnP3ZDC8Xd9BnT05",
      "authorship_tag": "ABX9TyMyTQ5eylve7Hs191OBkwkM",
      "include_colab_link": true
    },
    "kernelspec": {
      "name": "python3",
      "display_name": "Python 3"
    }
  },
  "cells": [
    {
      "cell_type": "markdown",
      "metadata": {
        "id": "view-in-github",
        "colab_type": "text"
      },
      "source": [
        "<a href=\"https://colab.research.google.com/github/CidOSJr/data-science-portfolio/blob/master/Notebooks/informacoes_consolidadas_de_benefici%C3%A1rios_ben202004_BA.ipynb\" target=\"_parent\"><img src=\"https://colab.research.google.com/assets/colab-badge.svg\" alt=\"Open In Colab\"/></a>"
      ]
    },
    {
      "cell_type": "markdown",
      "metadata": {
        "id": "TfbITOSuxjPf",
        "colab_type": "text"
      },
      "source": [
        "# Analise Exploratória: Informações consolidadas de Beneficiários\n",
        "\n",
        "A Agência Nacional de Saúde Suplementar (ANS) é a agência reguladora vinculada ao Ministério da Saúde responsável pelo setor de planos de saúde no Brasil.\n",
        "Conjunto de dados foi tirado do site dos dados abertos do governo, e reuni informações consolidadas de beneficiários. \n",
        "O dataset conta com o os dados somente de usuários do estado da Bahia.\n",
        "\n",
        "\n",
        "\n",
        "Link para obter do dataset clique [aqui](http://www.dados.gov.br/dataset/informacoes-consolidadas-de-beneficiarios/resource/1995c82a-ec57-4a50-ae7e-9f3994cbc636)\n",
        "\n",
        "\n",
        "\n",
        "---\n",
        "\n",
        "\n",
        "\n",
        "\n",
        "\n"
      ]
    },
    {
      "cell_type": "code",
      "metadata": {
        "id": "0IqXgpnExfrv",
        "colab_type": "code",
        "colab": {
          "base_uri": "https://localhost:8080/",
          "height": 72
        },
        "outputId": "7525c9e1-8af9-40d1-e871-fda510f1746c"
      },
      "source": [
        "# Carregando as bibliotecas necessarias \n",
        "import pandas as pd\n",
        "import numpy as np\n",
        "import matplotlib.pyplot as plt\n",
        "import seaborn as sns"
      ],
      "execution_count": null,
      "outputs": [
        {
          "output_type": "stream",
          "text": [
            "/usr/local/lib/python3.6/dist-packages/statsmodels/tools/_testing.py:19: FutureWarning: pandas.util.testing is deprecated. Use the functions in the public API at pandas.testing instead.\n",
            "  import pandas.util.testing as tm\n"
          ],
          "name": "stderr"
        }
      ]
    },
    {
      "cell_type": "code",
      "metadata": {
        "id": "xjs81Fedy1PL",
        "colab_type": "code",
        "colab": {}
      },
      "source": [
        "# O dataset escolhelhido foi o mais atualizado 2020-06-05\n",
        "path = '/content/drive/My Drive/Colab Notebooks/Datasets/dados_informacoes_consolidadas_de_beneficiarios_ben202004_BA.csv'\n",
        "dataset = pd.read_csv(path, encoding='ISO-8859-1', sep=';')"
      ],
      "execution_count": null,
      "outputs": []
    },
    {
      "cell_type": "code",
      "metadata": {
        "id": "Q7boP2C31IZX",
        "colab_type": "code",
        "colab": {
          "base_uri": "https://localhost:8080/",
          "height": 333
        },
        "outputId": "bc8842ac-8bb6-4185-f078-fbbc5325ca82"
      },
      "source": [
        "# Verificando as 5 primeiras linhas do dataset\n",
        "dataset.head()"
      ],
      "execution_count": null,
      "outputs": [
        {
          "output_type": "execute_result",
          "data": {
            "text/html": [
              "<div>\n",
              "<style scoped>\n",
              "    .dataframe tbody tr th:only-of-type {\n",
              "        vertical-align: middle;\n",
              "    }\n",
              "\n",
              "    .dataframe tbody tr th {\n",
              "        vertical-align: top;\n",
              "    }\n",
              "\n",
              "    .dataframe thead th {\n",
              "        text-align: right;\n",
              "    }\n",
              "</style>\n",
              "<table border=\"1\" class=\"dataframe\">\n",
              "  <thead>\n",
              "    <tr style=\"text-align: right;\">\n",
              "      <th></th>\n",
              "      <th>#ID_CMPT_MOVEL</th>\n",
              "      <th>CD_OPERADORA</th>\n",
              "      <th>NM_RAZAO_SOCIAL</th>\n",
              "      <th>NR_CNPJ</th>\n",
              "      <th>MODALIDADE_OPERADORA</th>\n",
              "      <th>SG_UF</th>\n",
              "      <th>CD_MUNICIPIO</th>\n",
              "      <th>NM_MUNICIPIO</th>\n",
              "      <th>TP_SEXO</th>\n",
              "      <th>DE_FAIXA_ETARIA</th>\n",
              "      <th>DE_FAIXA_ETARIA_REAJ</th>\n",
              "      <th>CD_PLANO</th>\n",
              "      <th>TP_VIGENCIA_PLANO</th>\n",
              "      <th>DE_CONTRATACAO_PLANO</th>\n",
              "      <th>DE_SEGMENTACAO_PLANO</th>\n",
              "      <th>DE_ABRG_GEOGRAFICA_PLANO</th>\n",
              "      <th>COBERTURA_ASSIST_PLAN</th>\n",
              "      <th>TIPO_VINCULO</th>\n",
              "      <th>QT_BENEFICIARIO_ATIVO</th>\n",
              "      <th>QT_BENEFICIARIO_ADERIDO</th>\n",
              "      <th>QT_BENEFICIARIO_CANCELADO</th>\n",
              "      <th>DT_CARGA</th>\n",
              "    </tr>\n",
              "  </thead>\n",
              "  <tbody>\n",
              "    <tr>\n",
              "      <th>0</th>\n",
              "      <td>202004</td>\n",
              "      <td>6246</td>\n",
              "      <td>SUL AMERICA COMPANHIA DE SEGURO SAÚDE</td>\n",
              "      <td>1685053000156</td>\n",
              "      <td>SEGURADORA ESPECIALIZADA EM SAÚDE</td>\n",
              "      <td>BA</td>\n",
              "      <td>291920</td>\n",
              "      <td>LAURO DE FREITAS</td>\n",
              "      <td>M</td>\n",
              "      <td>26 a 30 anos</td>\n",
              "      <td>24 a 28 anos</td>\n",
              "      <td>463813111</td>\n",
              "      <td>P</td>\n",
              "      <td>COLETIVO EMPRESARIAL</td>\n",
              "      <td>ODONTOLÓGICO</td>\n",
              "      <td>NACIONAL</td>\n",
              "      <td>Odontológico</td>\n",
              "      <td>TITULAR</td>\n",
              "      <td>4</td>\n",
              "      <td>0</td>\n",
              "      <td>0</td>\n",
              "      <td>02/06/2020</td>\n",
              "    </tr>\n",
              "    <tr>\n",
              "      <th>1</th>\n",
              "      <td>202004</td>\n",
              "      <td>416282</td>\n",
              "      <td>E.X.M BRASIL SAÚDE LTDA</td>\n",
              "      <td>7893499000152</td>\n",
              "      <td>MEDICINA DE GRUPO</td>\n",
              "      <td>BA</td>\n",
              "      <td>291920</td>\n",
              "      <td>LAURO DE FREITAS</td>\n",
              "      <td>M</td>\n",
              "      <td>56 a 60 anos</td>\n",
              "      <td>54 a 58 anos</td>\n",
              "      <td>458363089</td>\n",
              "      <td>P</td>\n",
              "      <td>COLETIVO EMPRESARIAL</td>\n",
              "      <td>REFERÊNCIA</td>\n",
              "      <td>GRUPO DE MUNICÍPIOS</td>\n",
              "      <td>Médico-hospitalar</td>\n",
              "      <td>TITULAR</td>\n",
              "      <td>11</td>\n",
              "      <td>0</td>\n",
              "      <td>0</td>\n",
              "      <td>02/06/2020</td>\n",
              "    </tr>\n",
              "    <tr>\n",
              "      <th>2</th>\n",
              "      <td>202004</td>\n",
              "      <td>301949</td>\n",
              "      <td>ODONTOPREV S/A</td>\n",
              "      <td>58119199000151</td>\n",
              "      <td>ODONTOLOGIA DE GRUPO</td>\n",
              "      <td>BA</td>\n",
              "      <td>291080</td>\n",
              "      <td>FEIRA DE SANTANA</td>\n",
              "      <td>M</td>\n",
              "      <td>51 a 55 anos</td>\n",
              "      <td>54 a 58 anos</td>\n",
              "      <td>8789019001</td>\n",
              "      <td>A</td>\n",
              "      <td>COLETIVO EMPRESARIAL</td>\n",
              "      <td>ODONTOLÓGICO</td>\n",
              "      <td>NACIONAL</td>\n",
              "      <td>Odontológico</td>\n",
              "      <td>DEPENDENTE</td>\n",
              "      <td>1</td>\n",
              "      <td>0</td>\n",
              "      <td>0</td>\n",
              "      <td>02/06/2020</td>\n",
              "    </tr>\n",
              "    <tr>\n",
              "      <th>3</th>\n",
              "      <td>202004</td>\n",
              "      <td>301949</td>\n",
              "      <td>ODONTOPREV S/A</td>\n",
              "      <td>58119199000151</td>\n",
              "      <td>ODONTOLOGIA DE GRUPO</td>\n",
              "      <td>BA</td>\n",
              "      <td>291080</td>\n",
              "      <td>FEIRA DE SANTANA</td>\n",
              "      <td>F</td>\n",
              "      <td>36 a 40 anos</td>\n",
              "      <td>39 a 43 anos</td>\n",
              "      <td>401862981</td>\n",
              "      <td>P</td>\n",
              "      <td>COLETIVO EMPRESARIAL</td>\n",
              "      <td>ODONTOLÓGICO</td>\n",
              "      <td>NACIONAL</td>\n",
              "      <td>Odontológico</td>\n",
              "      <td>TITULAR</td>\n",
              "      <td>9</td>\n",
              "      <td>0</td>\n",
              "      <td>0</td>\n",
              "      <td>02/06/2020</td>\n",
              "    </tr>\n",
              "    <tr>\n",
              "      <th>4</th>\n",
              "      <td>202004</td>\n",
              "      <td>368253</td>\n",
              "      <td>HAPVIDA ASSISTENCIA MEDICA LTDA</td>\n",
              "      <td>63554067000198</td>\n",
              "      <td>MEDICINA DE GRUPO</td>\n",
              "      <td>BA</td>\n",
              "      <td>291920</td>\n",
              "      <td>LAURO DE FREITAS</td>\n",
              "      <td>M</td>\n",
              "      <td>61 ou mais</td>\n",
              "      <td>59 ou mais</td>\n",
              "      <td>469975131</td>\n",
              "      <td>P</td>\n",
              "      <td>INDIVIDUAL OU FAMILIAR</td>\n",
              "      <td>AMBULATORIAL + HOSPITALAR COM OBSTETRÍCIA</td>\n",
              "      <td>GRUPO DE MUNICÍPIOS</td>\n",
              "      <td>Médico-hospitalar</td>\n",
              "      <td>TITULAR</td>\n",
              "      <td>2</td>\n",
              "      <td>0</td>\n",
              "      <td>0</td>\n",
              "      <td>02/06/2020</td>\n",
              "    </tr>\n",
              "  </tbody>\n",
              "</table>\n",
              "</div>"
            ],
            "text/plain": [
              "   #ID_CMPT_MOVEL  CD_OPERADORA  ... QT_BENEFICIARIO_CANCELADO    DT_CARGA\n",
              "0          202004          6246  ...                         0  02/06/2020\n",
              "1          202004        416282  ...                         0  02/06/2020\n",
              "2          202004        301949  ...                         0  02/06/2020\n",
              "3          202004        301949  ...                         0  02/06/2020\n",
              "4          202004        368253  ...                         0  02/06/2020\n",
              "\n",
              "[5 rows x 22 columns]"
            ]
          },
          "metadata": {
            "tags": []
          },
          "execution_count": 3
        }
      ]
    },
    {
      "cell_type": "code",
      "metadata": {
        "id": "5AlkxEocz-R5",
        "colab_type": "code",
        "colab": {
          "base_uri": "https://localhost:8080/",
          "height": 304
        },
        "outputId": "bfa90b8e-4507-41ec-e91b-ada0df861ff3"
      },
      "source": [
        "# Verificar a analise descritiva dos valores númericos do dataset\n",
        "dataset.describe()"
      ],
      "execution_count": null,
      "outputs": [
        {
          "output_type": "execute_result",
          "data": {
            "text/html": [
              "<div>\n",
              "<style scoped>\n",
              "    .dataframe tbody tr th:only-of-type {\n",
              "        vertical-align: middle;\n",
              "    }\n",
              "\n",
              "    .dataframe tbody tr th {\n",
              "        vertical-align: top;\n",
              "    }\n",
              "\n",
              "    .dataframe thead th {\n",
              "        text-align: right;\n",
              "    }\n",
              "</style>\n",
              "<table border=\"1\" class=\"dataframe\">\n",
              "  <thead>\n",
              "    <tr style=\"text-align: right;\">\n",
              "      <th></th>\n",
              "      <th>#ID_CMPT_MOVEL</th>\n",
              "      <th>CD_OPERADORA</th>\n",
              "      <th>NR_CNPJ</th>\n",
              "      <th>CD_MUNICIPIO</th>\n",
              "      <th>QT_BENEFICIARIO_ATIVO</th>\n",
              "      <th>QT_BENEFICIARIO_ADERIDO</th>\n",
              "      <th>QT_BENEFICIARIO_CANCELADO</th>\n",
              "    </tr>\n",
              "  </thead>\n",
              "  <tbody>\n",
              "    <tr>\n",
              "      <th>count</th>\n",
              "      <td>623887.0</td>\n",
              "      <td>623887.000000</td>\n",
              "      <td>6.238870e+05</td>\n",
              "      <td>623887.000000</td>\n",
              "      <td>623887.000000</td>\n",
              "      <td>623887.000000</td>\n",
              "      <td>623887.000000</td>\n",
              "    </tr>\n",
              "    <tr>\n",
              "      <th>mean</th>\n",
              "      <td>202004.0</td>\n",
              "      <td>292093.804873</td>\n",
              "      <td>3.744528e+13</td>\n",
              "      <td>291886.529125</td>\n",
              "      <td>4.927314</td>\n",
              "      <td>0.078817</td>\n",
              "      <td>0.129934</td>\n",
              "    </tr>\n",
              "    <tr>\n",
              "      <th>std</th>\n",
              "      <td>0.0</td>\n",
              "      <td>126021.864069</td>\n",
              "      <td>2.949441e+13</td>\n",
              "      <td>958.282850</td>\n",
              "      <td>29.462965</td>\n",
              "      <td>0.802944</td>\n",
              "      <td>1.223481</td>\n",
              "    </tr>\n",
              "    <tr>\n",
              "      <th>min</th>\n",
              "      <td>202004.0</td>\n",
              "      <td>27.000000</td>\n",
              "      <td>2.213000e+10</td>\n",
              "      <td>290000.000000</td>\n",
              "      <td>0.000000</td>\n",
              "      <td>0.000000</td>\n",
              "      <td>0.000000</td>\n",
              "    </tr>\n",
              "    <tr>\n",
              "      <th>25%</th>\n",
              "      <td>202004.0</td>\n",
              "      <td>301949.000000</td>\n",
              "      <td>4.745753e+12</td>\n",
              "      <td>291080.000000</td>\n",
              "      <td>1.000000</td>\n",
              "      <td>0.000000</td>\n",
              "      <td>0.000000</td>\n",
              "    </tr>\n",
              "    <tr>\n",
              "      <th>50%</th>\n",
              "      <td>202004.0</td>\n",
              "      <td>326305.000000</td>\n",
              "      <td>3.371949e+13</td>\n",
              "      <td>291920.000000</td>\n",
              "      <td>1.000000</td>\n",
              "      <td>0.000000</td>\n",
              "      <td>0.000000</td>\n",
              "    </tr>\n",
              "    <tr>\n",
              "      <th>75%</th>\n",
              "      <td>202004.0</td>\n",
              "      <td>357391.000000</td>\n",
              "      <td>5.811920e+13</td>\n",
              "      <td>292740.000000</td>\n",
              "      <td>3.000000</td>\n",
              "      <td>0.000000</td>\n",
              "      <td>0.000000</td>\n",
              "    </tr>\n",
              "    <tr>\n",
              "      <th>max</th>\n",
              "      <td>202004.0</td>\n",
              "      <td>421367.000000</td>\n",
              "      <td>9.738849e+13</td>\n",
              "      <td>293360.000000</td>\n",
              "      <td>3767.000000</td>\n",
              "      <td>99.000000</td>\n",
              "      <td>191.000000</td>\n",
              "    </tr>\n",
              "  </tbody>\n",
              "</table>\n",
              "</div>"
            ],
            "text/plain": [
              "       #ID_CMPT_MOVEL  ...  QT_BENEFICIARIO_CANCELADO\n",
              "count        623887.0  ...              623887.000000\n",
              "mean         202004.0  ...                   0.129934\n",
              "std               0.0  ...                   1.223481\n",
              "min          202004.0  ...                   0.000000\n",
              "25%          202004.0  ...                   0.000000\n",
              "50%          202004.0  ...                   0.000000\n",
              "75%          202004.0  ...                   0.000000\n",
              "max          202004.0  ...                 191.000000\n",
              "\n",
              "[8 rows x 7 columns]"
            ]
          },
          "metadata": {
            "tags": []
          },
          "execution_count": 4
        }
      ]
    },
    {
      "cell_type": "markdown",
      "metadata": {
        "id": "KvxvqJuD1blg",
        "colab_type": "text"
      },
      "source": [
        "Concluções:\n",
        "\n",
        "\n",
        "\n",
        "1.   Existem 623887 beneficiarios ativos.\n",
        "\n",
        "\n",
        "\n",
        "\n"
      ]
    },
    {
      "cell_type": "code",
      "metadata": {
        "id": "jlxfYzAW0nMN",
        "colab_type": "code",
        "colab": {
          "base_uri": "https://localhost:8080/",
          "height": 219
        },
        "outputId": "939eed19-28d6-4258-f51d-5af4c2b2c5d9"
      },
      "source": [
        "# Verificar a analise descritiva dos 'objetos' do dataset\n",
        "dataset.describe(include=object)"
      ],
      "execution_count": null,
      "outputs": [
        {
          "output_type": "execute_result",
          "data": {
            "text/html": [
              "<div>\n",
              "<style scoped>\n",
              "    .dataframe tbody tr th:only-of-type {\n",
              "        vertical-align: middle;\n",
              "    }\n",
              "\n",
              "    .dataframe tbody tr th {\n",
              "        vertical-align: top;\n",
              "    }\n",
              "\n",
              "    .dataframe thead th {\n",
              "        text-align: right;\n",
              "    }\n",
              "</style>\n",
              "<table border=\"1\" class=\"dataframe\">\n",
              "  <thead>\n",
              "    <tr style=\"text-align: right;\">\n",
              "      <th></th>\n",
              "      <th>NM_RAZAO_SOCIAL</th>\n",
              "      <th>MODALIDADE_OPERADORA</th>\n",
              "      <th>SG_UF</th>\n",
              "      <th>NM_MUNICIPIO</th>\n",
              "      <th>TP_SEXO</th>\n",
              "      <th>DE_FAIXA_ETARIA</th>\n",
              "      <th>DE_FAIXA_ETARIA_REAJ</th>\n",
              "      <th>CD_PLANO</th>\n",
              "      <th>TP_VIGENCIA_PLANO</th>\n",
              "      <th>DE_CONTRATACAO_PLANO</th>\n",
              "      <th>DE_SEGMENTACAO_PLANO</th>\n",
              "      <th>DE_ABRG_GEOGRAFICA_PLANO</th>\n",
              "      <th>COBERTURA_ASSIST_PLAN</th>\n",
              "      <th>TIPO_VINCULO</th>\n",
              "      <th>DT_CARGA</th>\n",
              "    </tr>\n",
              "  </thead>\n",
              "  <tbody>\n",
              "    <tr>\n",
              "      <th>count</th>\n",
              "      <td>623887</td>\n",
              "      <td>623887</td>\n",
              "      <td>623887</td>\n",
              "      <td>623887</td>\n",
              "      <td>623887</td>\n",
              "      <td>623867</td>\n",
              "      <td>623867</td>\n",
              "      <td>623887</td>\n",
              "      <td>623887</td>\n",
              "      <td>623887</td>\n",
              "      <td>623887</td>\n",
              "      <td>623887</td>\n",
              "      <td>623887</td>\n",
              "      <td>623887</td>\n",
              "      <td>623887</td>\n",
              "    </tr>\n",
              "    <tr>\n",
              "      <th>unique</th>\n",
              "      <td>561</td>\n",
              "      <td>7</td>\n",
              "      <td>1</td>\n",
              "      <td>418</td>\n",
              "      <td>2</td>\n",
              "      <td>13</td>\n",
              "      <td>10</td>\n",
              "      <td>6112</td>\n",
              "      <td>2</td>\n",
              "      <td>9</td>\n",
              "      <td>13</td>\n",
              "      <td>7</td>\n",
              "      <td>3</td>\n",
              "      <td>3</td>\n",
              "      <td>1</td>\n",
              "    </tr>\n",
              "    <tr>\n",
              "      <th>top</th>\n",
              "      <td>ODONTOPREV S/A</td>\n",
              "      <td>ODONTOLOGIA DE GRUPO</td>\n",
              "      <td>BA</td>\n",
              "      <td>SALVADOR</td>\n",
              "      <td>F</td>\n",
              "      <td>36 a 40 anos</td>\n",
              "      <td>00 a 18 anos</td>\n",
              "      <td>443079034</td>\n",
              "      <td>P</td>\n",
              "      <td>COLETIVO EMPRESARIAL</td>\n",
              "      <td>AMBULATORIAL + HOSPITALAR COM OBSTETRÍCIA</td>\n",
              "      <td>NACIONAL</td>\n",
              "      <td>Médico-hospitalar</td>\n",
              "      <td>TITULAR</td>\n",
              "      <td>02/06/2020</td>\n",
              "    </tr>\n",
              "    <tr>\n",
              "      <th>freq</th>\n",
              "      <td>134070</td>\n",
              "      <td>214458</td>\n",
              "      <td>623887</td>\n",
              "      <td>112667</td>\n",
              "      <td>321314</td>\n",
              "      <td>70082</td>\n",
              "      <td>111234</td>\n",
              "      <td>10271</td>\n",
              "      <td>573063</td>\n",
              "      <td>422972</td>\n",
              "      <td>279322</td>\n",
              "      <td>404654</td>\n",
              "      <td>347464</td>\n",
              "      <td>333844</td>\n",
              "      <td>623887</td>\n",
              "    </tr>\n",
              "  </tbody>\n",
              "</table>\n",
              "</div>"
            ],
            "text/plain": [
              "       NM_RAZAO_SOCIAL  MODALIDADE_OPERADORA  ... TIPO_VINCULO    DT_CARGA\n",
              "count           623887                623887  ...       623887      623887\n",
              "unique             561                     7  ...            3           1\n",
              "top     ODONTOPREV S/A  ODONTOLOGIA DE GRUPO  ...      TITULAR  02/06/2020\n",
              "freq            134070                214458  ...       333844      623887\n",
              "\n",
              "[4 rows x 15 columns]"
            ]
          },
          "metadata": {
            "tags": []
          },
          "execution_count": 5
        }
      ]
    },
    {
      "cell_type": "markdown",
      "metadata": {
        "id": "cMdd2H_E17uL",
        "colab_type": "text"
      },
      "source": [
        "Concluções:\n",
        "\n",
        "1. ODONTOPREV S/A é a empresa que mais tem usuários.\n",
        "2.  418 municipios do estado da Bahia tem usuários de plano de saúde.\n",
        "3.   Mais mulheres que homens são usuárias de plano de saúde.\n",
        "4.  A faixa etaria de usuários é entre 36 a 40 anos.\n",
        "5. ODONTOPREV S/A é a empresa\n",
        "6. SALVADOR\tcomo esperado é a cidade que mais tem usuários no total de 112667\n",
        "\n"
      ]
    },
    {
      "cell_type": "code",
      "metadata": {
        "id": "rTx_mOKL0thp",
        "colab_type": "code",
        "colab": {
          "base_uri": "https://localhost:8080/",
          "height": 263
        },
        "outputId": "cdabf21e-d4b4-419f-e1ec-6d09b8ad1240"
      },
      "source": [
        "dataset.DE_FAIXA_ETARIA.value_counts().sort_values(ascending=False)"
      ],
      "execution_count": null,
      "outputs": [
        {
          "output_type": "execute_result",
          "data": {
            "text/plain": [
              "36 a 40 anos    70082\n",
              "31 a 35 anos    68390\n",
              "61 ou mais      60766\n",
              "41 a 45 anos    58769\n",
              "26 a 30 anos    56348\n",
              "46 a 50 anos    48970\n",
              "21 a 25 anos    48070\n",
              "51 a 55 anos    43225\n",
              "16 a 20 anos    39617\n",
              "56 a 60 anos    36409\n",
              "00 a 05 anos    32513\n",
              "06 a 10 anos    30538\n",
              "11 a 15 anos    30170\n",
              "Name: DE_FAIXA_ETARIA, dtype: int64"
            ]
          },
          "metadata": {
            "tags": []
          },
          "execution_count": 6
        }
      ]
    },
    {
      "cell_type": "code",
      "metadata": {
        "id": "mbDGzV2F3sw4",
        "colab_type": "code",
        "colab": {
          "base_uri": "https://localhost:8080/",
          "height": 394
        },
        "outputId": "825e3418-3d43-42aa-cf9f-199980311d5f"
      },
      "source": [
        "# plotar a faixa etaria de idade;\n",
        "plt.figure(figsize=(10,5))\n",
        "plt.xticks(rotation=45)\n",
        "\n",
        "sns.set_style('whitegrid')\n",
        "\n",
        "sns.countplot(\n",
        "    dataset.DE_FAIXA_ETARIA,\n",
        "    order = dataset.DE_FAIXA_ETARIA.value_counts().index,\n",
        "    color='gray'\n",
        ")"
      ],
      "execution_count": null,
      "outputs": [
        {
          "output_type": "execute_result",
          "data": {
            "text/plain": [
              "<matplotlib.axes._subplots.AxesSubplot at 0x7fdefafa17f0>"
            ]
          },
          "metadata": {
            "tags": []
          },
          "execution_count": 7
        },
        {
          "output_type": "display_data",
          "data": {
            "image/png": "[encoded data removed]",
            "text/plain": [
              "<Figure size 720x360 with 1 Axes>"
            ]
          },
          "metadata": {
            "tags": [],
            "needs_background": "light"
          }
        }
      ]
    }
  ]
}