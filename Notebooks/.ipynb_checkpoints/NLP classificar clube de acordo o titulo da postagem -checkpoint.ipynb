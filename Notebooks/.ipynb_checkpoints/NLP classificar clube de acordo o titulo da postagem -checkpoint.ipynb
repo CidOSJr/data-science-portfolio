{
 "cells": [
  {
   "cell_type": "markdown",
   "metadata": {},
   "source": [
    "**NLP Classificar clube pelo título da postagem**\n",
    "\n",
    "Usando ferramentas de NLP criei o classificador para saber se o título da postagem é referente ao Flamengo ou Corinthians.\n",
    "\n",
    "**Descrição e dataset (retirado do kaggle)**\n",
    "\n",
    "> Este conjunto de dados tem como objetivo fornecer uma amostra de\n",
    ">               dados do mundo real cobrindo um período de tempo razoável. Contém\n",
    ">               uma coluna com o nome do clube, que pode ser considerado uma\n",
    ">               classe. Link: \n",
    ">               [https://www.kaggle.com/lgmoneda/ge-soccer-clubs-news/](https://www.kaggle.com/lgmoneda/ge-soccer-clubs-news/)\n",
    "\n",
    "\n"
   ]
  },
  {
   "cell_type": "code",
   "execution_count": 55,
   "metadata": {},
   "outputs": [],
   "source": [
    "# Importando bibliotecas\n",
    "import pandas as pd\n",
    "import seaborn as sns\n",
    "import nltk \n",
    "from sklearn.feature_extraction.text import CountVectorizer, TfidfTransformer\n",
    "from sklearn.model_selection import train_test_split\n",
    "from sklearn.svm import LinearSVC\n",
    "from sklearn import metrics"
   ]
  },
  {
   "cell_type": "code",
   "execution_count": 60,
   "metadata": {},
   "outputs": [],
   "source": [
    "# carregando dataset \n",
    "file = 'https://raw.githubusercontent.com/CidOSJr/data-science-portfolio/master/datasets/clubs_news.csv'\n",
    "df = pd.read_csv(file)"
   ]
  },
  {
   "cell_type": "code",
   "execution_count": 4,
   "metadata": {},
   "outputs": [
    {
     "data": {
      "text/html": [
       "<div>\n",
       "<style scoped>\n",
       "    .dataframe tbody tr th:only-of-type {\n",
       "        vertical-align: middle;\n",
       "    }\n",
       "\n",
       "    .dataframe tbody tr th {\n",
       "        vertical-align: top;\n",
       "    }\n",
       "\n",
       "    .dataframe thead th {\n",
       "        text-align: right;\n",
       "    }\n",
       "</style>\n",
       "<table border=\"1\" class=\"dataframe\">\n",
       "  <thead>\n",
       "    <tr style=\"text-align: right;\">\n",
       "      <th></th>\n",
       "      <th>date</th>\n",
       "      <th>time</th>\n",
       "      <th>title</th>\n",
       "      <th>text</th>\n",
       "      <th>link</th>\n",
       "      <th>club</th>\n",
       "    </tr>\n",
       "  </thead>\n",
       "  <tbody>\n",
       "    <tr>\n",
       "      <th>0</th>\n",
       "      <td>22/12/2017</td>\n",
       "      <td>10h04</td>\n",
       "      <td>Conmebol divulga tabela detalhada da pré e da ...</td>\n",
       "      <td>Argentinos são destaques no caminho dos brasi...</td>\n",
       "      <td>https://globoesporte.globo.com/futebol/liberta...</td>\n",
       "      <td>flamengo</td>\n",
       "    </tr>\n",
       "    <tr>\n",
       "      <th>1</th>\n",
       "      <td>14/03/2017</td>\n",
       "      <td>12h26</td>\n",
       "      <td>Casa llena: torcida da Católica esgota ingress...</td>\n",
       "      <td>Depois de encher o Maracanã para golear o San ...</td>\n",
       "      <td>http://globoesporte.globo.com/futebol/times/fl...</td>\n",
       "      <td>flamengo</td>\n",
       "    </tr>\n",
       "    <tr>\n",
       "      <th>2</th>\n",
       "      <td>13/04/2017</td>\n",
       "      <td>00h24</td>\n",
       "      <td>Zé Ricardo agradece superação de Diego e diz q...</td>\n",
       "      <td>O Flamengo assumiu a liderança do Grupo 4 da ...</td>\n",
       "      <td>https://globoesporte.globo.com/futebol/times/f...</td>\n",
       "      <td>flamengo</td>\n",
       "    </tr>\n",
       "    <tr>\n",
       "      <th>3</th>\n",
       "      <td>22/03/2018</td>\n",
       "      <td>11h00</td>\n",
       "      <td>Conca, Thiago Neves, Roger... Como foi o prime...</td>\n",
       "      <td>É grande a expectativa para saber como o “Cei...</td>\n",
       "      <td>https://globoesporte.globo.com/rj/futebol/camp...</td>\n",
       "      <td>flamengo</td>\n",
       "    </tr>\n",
       "    <tr>\n",
       "      <th>4</th>\n",
       "      <td>28/05/2020</td>\n",
       "      <td>06h00</td>\n",
       "      <td>Das Canárias para o topo da América, as ideias...</td>\n",
       "      <td>Em maio, completou apenas o primeiro ano como...</td>\n",
       "      <td>https://globoesporte.globo.com/futebol/liberta...</td>\n",
       "      <td>flamengo</td>\n",
       "    </tr>\n",
       "  </tbody>\n",
       "</table>\n",
       "</div>"
      ],
      "text/plain": [
       "         date   time                                              title  \\\n",
       "0  22/12/2017  10h04  Conmebol divulga tabela detalhada da pré e da ...   \n",
       "1  14/03/2017  12h26  Casa llena: torcida da Católica esgota ingress...   \n",
       "2  13/04/2017  00h24  Zé Ricardo agradece superação de Diego e diz q...   \n",
       "3  22/03/2018  11h00  Conca, Thiago Neves, Roger... Como foi o prime...   \n",
       "4  28/05/2020  06h00  Das Canárias para o topo da América, as ideias...   \n",
       "\n",
       "                                                text  \\\n",
       "0   Argentinos são destaques no caminho dos brasi...   \n",
       "1  Depois de encher o Maracanã para golear o San ...   \n",
       "2   O Flamengo assumiu a liderança do Grupo 4 da ...   \n",
       "3   É grande a expectativa para saber como o “Cei...   \n",
       "4   Em maio, completou apenas o primeiro ano como...   \n",
       "\n",
       "                                                link      club  \n",
       "0  https://globoesporte.globo.com/futebol/liberta...  flamengo  \n",
       "1  http://globoesporte.globo.com/futebol/times/fl...  flamengo  \n",
       "2  https://globoesporte.globo.com/futebol/times/f...  flamengo  \n",
       "3  https://globoesporte.globo.com/rj/futebol/camp...  flamengo  \n",
       "4  https://globoesporte.globo.com/futebol/liberta...  flamengo  "
      ]
     },
     "execution_count": 4,
     "metadata": {},
     "output_type": "execute_result"
    }
   ],
   "source": [
    "df.head()"
   ]
  },
  {
   "cell_type": "code",
   "execution_count": 12,
   "metadata": {},
   "outputs": [
    {
     "data": {
      "text/plain": [
       "(11332, 6)"
      ]
     },
     "execution_count": 12,
     "metadata": {},
     "output_type": "execute_result"
    }
   ],
   "source": [
    "df.shape"
   ]
  },
  {
   "cell_type": "code",
   "execution_count": 9,
   "metadata": {},
   "outputs": [
    {
     "data": {
      "text/plain": [
       "flamengo       57.165549\n",
       "corinthians    42.834451\n",
       "Name: club, dtype: float64"
      ]
     },
     "execution_count": 9,
     "metadata": {},
     "output_type": "execute_result"
    }
   ],
   "source": [
    "# Verificar a quantidade de postagens por clube: \n",
    "(df['club'].value_counts() / df.shape[0]) * 100"
   ]
  },
  {
   "cell_type": "code",
   "execution_count": 56,
   "metadata": {},
   "outputs": [
    {
     "data": {
      "text/plain": [
       "<AxesSubplot:xlabel='club', ylabel='count'>"
      ]
     },
     "execution_count": 56,
     "metadata": {},
     "output_type": "execute_result"
    },
    {
     "data": {
      "image/png": "[encoded data removed]",
      "text/plain": [
       "<Figure size 432x288 with 1 Axes>"
      ]
     },
     "metadata": {
      "needs_background": "light"
     },
     "output_type": "display_data"
    }
   ],
   "source": [
    "sns.countplot(data=df, x='club')"
   ]
  },
  {
   "cell_type": "code",
   "execution_count": 15,
   "metadata": {},
   "outputs": [],
   "source": [
    "# Criar uma nova coluna para fazer o pre-processamento\n",
    "df['desc'] = df['title'].copy()"
   ]
  },
  {
   "cell_type": "code",
   "execution_count": 20,
   "metadata": {},
   "outputs": [
    {
     "data": {
      "text/html": [
       "<div>\n",
       "<style scoped>\n",
       "    .dataframe tbody tr th:only-of-type {\n",
       "        vertical-align: middle;\n",
       "    }\n",
       "\n",
       "    .dataframe tbody tr th {\n",
       "        vertical-align: top;\n",
       "    }\n",
       "\n",
       "    .dataframe thead th {\n",
       "        text-align: right;\n",
       "    }\n",
       "</style>\n",
       "<table border=\"1\" class=\"dataframe\">\n",
       "  <thead>\n",
       "    <tr style=\"text-align: right;\">\n",
       "      <th></th>\n",
       "      <th>title</th>\n",
       "      <th>desc</th>\n",
       "    </tr>\n",
       "  </thead>\n",
       "  <tbody>\n",
       "    <tr>\n",
       "      <th>0</th>\n",
       "      <td>Conmebol divulga tabela detalhada da pré e da ...</td>\n",
       "      <td>Conmebol divulga tabela detalhada da pré e da ...</td>\n",
       "    </tr>\n",
       "    <tr>\n",
       "      <th>1</th>\n",
       "      <td>Casa llena: torcida da Católica esgota ingress...</td>\n",
       "      <td>Casa llena torcida da Católica esgota ingresso...</td>\n",
       "    </tr>\n",
       "    <tr>\n",
       "      <th>2</th>\n",
       "      <td>Zé Ricardo agradece superação de Diego e diz q...</td>\n",
       "      <td>Zé Ricardo agradece superação de Diego e diz q...</td>\n",
       "    </tr>\n",
       "    <tr>\n",
       "      <th>3</th>\n",
       "      <td>Conca, Thiago Neves, Roger... Como foi o prime...</td>\n",
       "      <td>Conca Thiago Neves Roger Como foi o primeiro F...</td>\n",
       "    </tr>\n",
       "    <tr>\n",
       "      <th>4</th>\n",
       "      <td>Das Canárias para o topo da América, as ideias...</td>\n",
       "      <td>Das Canárias para o topo da América as ideias ...</td>\n",
       "    </tr>\n",
       "    <tr>\n",
       "      <th>5</th>\n",
       "      <td>Análise: longe de seu padrão, Flamengo é pragm...</td>\n",
       "      <td>Análise longe de seu padrão Flamengo é pragmát...</td>\n",
       "    </tr>\n",
       "    <tr>\n",
       "      <th>6</th>\n",
       "      <td>Paulo Nunes cobra reforços com perfil vencedor...</td>\n",
       "      <td>Paulo Nunes cobra reforços com perfil vencedor...</td>\n",
       "    </tr>\n",
       "    <tr>\n",
       "      <th>7</th>\n",
       "      <td>Patrocinadora de Flu, Fla e Vasco não pretende...</td>\n",
       "      <td>Patrocinadora de Flu Fla e Vasco não pretende ...</td>\n",
       "    </tr>\n",
       "    <tr>\n",
       "      <th>8</th>\n",
       "      <td>\"Muito feliz\", Ederson desembarca no Rio para ...</td>\n",
       "      <td>Muito feliz Ederson desembarca no Rio para a a...</td>\n",
       "    </tr>\n",
       "    <tr>\n",
       "      <th>9</th>\n",
       "      <td>Com De Arrascaeta em campo, Uruguai goleia Tai...</td>\n",
       "      <td>Com De Arrascaeta em campo Uruguai goleia Tail...</td>\n",
       "    </tr>\n",
       "    <tr>\n",
       "      <th>10</th>\n",
       "      <td>Torcida do Flamengo concorda com Conmebol e el...</td>\n",
       "      <td>Torcida do Flamengo concorda com Conmebol e el...</td>\n",
       "    </tr>\n",
       "    <tr>\n",
       "      <th>11</th>\n",
       "      <td>Arnaldo diz que Gabigol é o melhor finalizador...</td>\n",
       "      <td>Arnaldo diz que Gabigol é o melhor finalizador...</td>\n",
       "    </tr>\n",
       "    <tr>\n",
       "      <th>12</th>\n",
       "      <td>Flamengo treina no Ninho do Urubu pelo segundo...</td>\n",
       "      <td>Flamengo treina no Ninho do Urubu pelo segundo...</td>\n",
       "    </tr>\n",
       "    <tr>\n",
       "      <th>13</th>\n",
       "      <td>\"Flamengo tem três titulares indiscutíveis na ...</td>\n",
       "      <td>Flamengo tem três titulares indiscutíveis na S...</td>\n",
       "    </tr>\n",
       "    <tr>\n",
       "      <th>14</th>\n",
       "      <td>Atuações: Diego Alves falha e é o pior do Flam...</td>\n",
       "      <td>Atuações Diego Alves falha e é o pior do Flame...</td>\n",
       "    </tr>\n",
       "    <tr>\n",
       "      <th>15</th>\n",
       "      <td>Com 15 cartões no ano, Felipe Melo lidera list...</td>\n",
       "      <td>Com  cartões no ano Felipe Melo lidera lista d...</td>\n",
       "    </tr>\n",
       "    <tr>\n",
       "      <th>16</th>\n",
       "      <td>No ano de sua maior tragédia, Flamengo põe lem...</td>\n",
       "      <td>No ano de sua maior tragédia Flamengo põe lema...</td>\n",
       "    </tr>\n",
       "    <tr>\n",
       "      <th>17</th>\n",
       "      <td>Reinaldo lembra conselhos a Imperador, treino ...</td>\n",
       "      <td>Reinaldo lembra conselhos a Imperador treino c...</td>\n",
       "    </tr>\n",
       "    <tr>\n",
       "      <th>18</th>\n",
       "      <td>Romário aponta Gabigol como o 9 da atualidade ...</td>\n",
       "      <td>Romário aponta Gabigol como o  da atualidade e...</td>\n",
       "    </tr>\n",
       "    <tr>\n",
       "      <th>19</th>\n",
       "      <td>Zico pede a contratação de mais um \"Diego\" par...</td>\n",
       "      <td>Zico pede a contratação de mais um Diego para ...</td>\n",
       "    </tr>\n",
       "  </tbody>\n",
       "</table>\n",
       "</div>"
      ],
      "text/plain": [
       "                                                title  \\\n",
       "0   Conmebol divulga tabela detalhada da pré e da ...   \n",
       "1   Casa llena: torcida da Católica esgota ingress...   \n",
       "2   Zé Ricardo agradece superação de Diego e diz q...   \n",
       "3   Conca, Thiago Neves, Roger... Como foi o prime...   \n",
       "4   Das Canárias para o topo da América, as ideias...   \n",
       "5   Análise: longe de seu padrão, Flamengo é pragm...   \n",
       "6   Paulo Nunes cobra reforços com perfil vencedor...   \n",
       "7   Patrocinadora de Flu, Fla e Vasco não pretende...   \n",
       "8   \"Muito feliz\", Ederson desembarca no Rio para ...   \n",
       "9   Com De Arrascaeta em campo, Uruguai goleia Tai...   \n",
       "10  Torcida do Flamengo concorda com Conmebol e el...   \n",
       "11  Arnaldo diz que Gabigol é o melhor finalizador...   \n",
       "12  Flamengo treina no Ninho do Urubu pelo segundo...   \n",
       "13  \"Flamengo tem três titulares indiscutíveis na ...   \n",
       "14  Atuações: Diego Alves falha e é o pior do Flam...   \n",
       "15  Com 15 cartões no ano, Felipe Melo lidera list...   \n",
       "16  No ano de sua maior tragédia, Flamengo põe lem...   \n",
       "17  Reinaldo lembra conselhos a Imperador, treino ...   \n",
       "18  Romário aponta Gabigol como o 9 da atualidade ...   \n",
       "19  Zico pede a contratação de mais um \"Diego\" par...   \n",
       "\n",
       "                                                 desc  \n",
       "0   Conmebol divulga tabela detalhada da pré e da ...  \n",
       "1   Casa llena torcida da Católica esgota ingresso...  \n",
       "2   Zé Ricardo agradece superação de Diego e diz q...  \n",
       "3   Conca Thiago Neves Roger Como foi o primeiro F...  \n",
       "4   Das Canárias para o topo da América as ideias ...  \n",
       "5   Análise longe de seu padrão Flamengo é pragmát...  \n",
       "6   Paulo Nunes cobra reforços com perfil vencedor...  \n",
       "7   Patrocinadora de Flu Fla e Vasco não pretende ...  \n",
       "8   Muito feliz Ederson desembarca no Rio para a a...  \n",
       "9   Com De Arrascaeta em campo Uruguai goleia Tail...  \n",
       "10  Torcida do Flamengo concorda com Conmebol e el...  \n",
       "11  Arnaldo diz que Gabigol é o melhor finalizador...  \n",
       "12  Flamengo treina no Ninho do Urubu pelo segundo...  \n",
       "13  Flamengo tem três titulares indiscutíveis na S...  \n",
       "14  Atuações Diego Alves falha e é o pior do Flame...  \n",
       "15  Com  cartões no ano Felipe Melo lidera lista d...  \n",
       "16  No ano de sua maior tragédia Flamengo põe lema...  \n",
       "17  Reinaldo lembra conselhos a Imperador treino c...  \n",
       "18  Romário aponta Gabigol como o  da atualidade e...  \n",
       "19  Zico pede a contratação de mais um Diego para ...  "
      ]
     },
     "execution_count": 20,
     "metadata": {},
     "output_type": "execute_result"
    }
   ],
   "source": [
    "df[['title', 'desc']].head(20)"
   ]
  },
  {
   "cell_type": "code",
   "execution_count": 19,
   "metadata": {},
   "outputs": [],
   "source": [
    "# pre-processamentos de dados\n",
    "df['desc'] = df['desc'].\\\n",
    "str.replace(r'[,.;:?!]+', '', regex=True).\\\n",
    "str.replace(r'[/<>()|\\-\\$%#@\\'\\\"\"]+', '', regex=True).\\\n",
    "str.replace(r'[0-9]+', '', regex=True).copy()"
   ]
  },
  {
   "cell_type": "code",
   "execution_count": 25,
   "metadata": {},
   "outputs": [],
   "source": [
    "# instanciando as stop words, que são palavras que não alteram o sentido do texto\n",
    "stopwords = nltk.corpus.stopwords.words('portuguese')"
   ]
  },
  {
   "cell_type": "code",
   "execution_count": 27,
   "metadata": {},
   "outputs": [],
   "source": [
    "# instanciar CountVectorizer para tokenizar e converter o texto em uma matriz binaria,\n",
    "\n",
    "# parametros: strip_accents (remover acentos), lowercase (texto em caixa baixa), \n",
    "# strip_accents (remover acentos), \n",
    "# lowercase (texto em caixa baixa) e \n",
    "# stop_words\n",
    "cvt = CountVectorizer(\n",
    "    strip_accents='ascii',\n",
    "    lowercase=True,\n",
    "    stop_words=stopwords\n",
    ")"
   ]
  },
  {
   "cell_type": "code",
   "execution_count": 28,
   "metadata": {},
   "outputs": [
    {
     "name": "stderr",
     "output_type": "stream",
     "text": [
      "/home/cidjr/Dropbox/my-projects/venv/lib64/python3.8/site-packages/sklearn/feature_extraction/text.py:383: UserWarning: Your stop_words may be inconsistent with your preprocessing. Tokenizing the stop words generated tokens ['ate', 'eramos', 'estao', 'estavamos', 'estiveramos', 'estivessemos', 'foramos', 'fossemos', 'ha', 'hao', 'houveramos', 'houverao', 'houveriamos', 'houvessemos', 'ja', 'nao', 'sao', 'sera', 'serao', 'seriamos', 'so', 'tambem', 'tera', 'terao', 'teriamos', 'tinhamos', 'tiveramos', 'tivessemos', 'voce', 'voces'] not in stop_words.\n",
      "  warnings.warn('Your stop_words may be inconsistent with '\n"
     ]
    }
   ],
   "source": [
    "X_cvt = cvt.fit_transform(df['desc'])"
   ]
  },
  {
   "cell_type": "code",
   "execution_count": 29,
   "metadata": {},
   "outputs": [
    {
     "name": "stdout",
     "output_type": "stream",
     "text": [
      "[[0 0 0 ... 0 0 0]\n",
      " [0 0 0 ... 0 0 0]\n",
      " [0 0 0 ... 0 0 0]\n",
      " ...\n",
      " [0 0 0 ... 0 0 0]\n",
      " [0 0 0 ... 0 0 0]\n",
      " [0 0 0 ... 0 0 0]]\n"
     ]
    }
   ],
   "source": [
    "# visualizar matriz binaria criada\n",
    "print(X_cvt.toarray())"
   ]
  },
  {
   "cell_type": "code",
   "execution_count": 30,
   "metadata": {},
   "outputs": [],
   "source": [
    "# normalizar\n",
    "tfi = TfidfTransformer(use_idf=True)"
   ]
  },
  {
   "cell_type": "code",
   "execution_count": 31,
   "metadata": {},
   "outputs": [],
   "source": [
    "X_tfi = tfi.fit_transform(X_cvt)"
   ]
  },
  {
   "cell_type": "code",
   "execution_count": 35,
   "metadata": {},
   "outputs": [],
   "source": [
    "# dividi o dataset em treino e teste\n",
    "X_train, X_test, y_train, y_test = train_test_split(\n",
    "    X_tfi,\n",
    "    df['club'],\n",
    "    test_size=0.2\n",
    ")"
   ]
  },
  {
   "cell_type": "code",
   "execution_count": 37,
   "metadata": {},
   "outputs": [],
   "source": [
    "# instanciar o algoritmo\n",
    "clf = LinearSVC().fit(X_train, y_train)"
   ]
  },
  {
   "cell_type": "code",
   "execution_count": 40,
   "metadata": {},
   "outputs": [],
   "source": [
    "y_pred = clf.predict(X_test)"
   ]
  },
  {
   "cell_type": "code",
   "execution_count": 42,
   "metadata": {},
   "outputs": [
    {
     "name": "stdout",
     "output_type": "stream",
     "text": [
      "0.929422143802382\n"
     ]
    }
   ],
   "source": [
    "# testar simples para saber a accurácia do modelo;\n",
    "print(metrics.accuracy_score(y_test, y_pred))"
   ]
  },
  {
   "cell_type": "markdown",
   "metadata": {},
   "source": [
    "# Hora de testar o classicador"
   ]
  },
  {
   "cell_type": "code",
   "execution_count": 57,
   "metadata": {},
   "outputs": [],
   "source": [
    "texto_ge = 'O Som do Jogo: final sem torcida cria um Dérbi como você nunca viu; assista'"
   ]
  },
  {
   "cell_type": "code",
   "execution_count": 58,
   "metadata": {},
   "outputs": [],
   "source": [
    "def novo_titulo(titulo):\n",
    "    novo_cvt = cvt.transform(pd.Series(titulo))\n",
    "    novo_tfi = tfi.transform(novo_cvt)\n",
    "    clube = clf.predict(novo_tfi)[0]\n",
    "    return clube"
   ]
  },
  {
   "cell_type": "code",
   "execution_count": 59,
   "metadata": {},
   "outputs": [
    {
     "data": {
      "text/plain": [
       "'corinthians'"
      ]
     },
     "execution_count": 59,
     "metadata": {},
     "output_type": "execute_result"
    }
   ],
   "source": [
    "novo_titulo(texto_ge)"
   ]
  }
 ],
 "metadata": {
  "kernelspec": {
   "display_name": "Python 3",
   "language": "python",
   "name": "python3"
  },
  "language_info": {
   "codemirror_mode": {
    "name": "ipython",
    "version": 3
   },
   "file_extension": ".py",
   "mimetype": "text/x-python",
   "name": "python",
   "nbconvert_exporter": "python",
   "pygments_lexer": "ipython3",
   "version": "3.8.5"
  }
 },
 "nbformat": 4,
 "nbformat_minor": 4
}
