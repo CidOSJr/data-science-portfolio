{
  "nbformat": 4,
  "nbformat_minor": 0,
  "metadata": {
    "colab": {
      "name": "Gráfico Waffle - Eleições Municipais Salvador.ipynb",
      "provenance": [],
      "authorship_tag": "ABX9TyPsZlxMzTprH9oZZKEsJNDm",
      "include_colab_link": true
    },
    "kernelspec": {
      "name": "python3",
      "display_name": "Python 3"
    }
  },
  "cells": [
    {
      "cell_type": "markdown",
      "metadata": {
        "id": "view-in-github",
        "colab_type": "text"
      },
      "source": [
        "<a href=\"https://colab.research.google.com/github/CidOSJr/data-science-portfolio/blob/master/Notebooks/Gr%C3%A1fico_Waffle_Elei%C3%A7%C3%B5es_Municipais_Salvador.ipynb\" target=\"_parent\"><img src=\"https://colab.research.google.com/assets/colab-badge.svg\" alt=\"Open In Colab\"/></a>"
      ]
    },
    {
      "cell_type": "markdown",
      "metadata": {
        "id": "G8qJlx4eJi2U",
        "colab_type": "text"
      },
      "source": [
        "**Gráfico Waffle - Eleições Municipais Salvador 2016**\n",
        "\n",
        "<img src='https://cdn-images-1.medium.com/max/800/1*WuKOMpLT-1BA9G79c3QLKA.jpeg'>\n",
        "\n",
        "Um gráfico de waffle é um gráfico de visualização que normalmente é criada para exibir o progresso em direção aos objetivos. As representam um ponto percentual somando 100%. Geralmente é uma opção eficaz quando você está tentando adicionar recursos de visualização interessantes.\n",
        "\n",
        "Usaremos o gráfico de waffle para representar o primeiro turno da eleição municipal de Salvador em 2016.\n",
        "\n",
        "<img src='https://raw.githubusercontent.com/CidOSJr/data-science-portfolio/master/img/Captura%20de%20tela_2020-09-18_09-19-56.png'>"
      ]
    },
    {
      "cell_type": "code",
      "metadata": {
        "id": "S1Ksq8_-LOwj",
        "colab_type": "code",
        "colab": {}
      },
      "source": [
        "# instalar o pywaffle e o matplotlib\n",
        "!pip install pywaffle -q\n",
        "!pip install matplolib -q"
      ],
      "execution_count": null,
      "outputs": []
    },
    {
      "cell_type": "code",
      "metadata": {
        "id": "dZcWVQovLW8d",
        "colab_type": "code",
        "colab": {}
      },
      "source": [
        "# importar bibliotecas necessarias\n",
        "import matplotlib.pyplot as plt\n",
        "from pywaffle import Waffle"
      ],
      "execution_count": null,
      "outputs": []
    },
    {
      "cell_type": "code",
      "metadata": {
        "id": "Y6Sfnh7NLKVm",
        "colab_type": "code",
        "colab": {}
      },
      "source": [
        "# dicionario com os candidatos, votos BRANCOS e NULOS e seu percentual na votação\n",
        "candidatos = {\n",
        "    'Acm Neto': 73.99,\n",
        "    'Alice Portugal': 14.55,\n",
        "    'Pastor Sargento Isidório': 8.61,\n",
        "    'Outros candidatos': 2.86,\n",
        "    'BRANCOS': 3.17,\n",
        "    'NULOS': 10.3\n",
        "}"
      ],
      "execution_count": null,
      "outputs": []
    },
    {
      "cell_type": "code",
      "metadata": {
        "id": "BtWYQ_ZPONp1",
        "colab_type": "code",
        "colab": {
          "base_uri": "https://localhost:8080/",
          "height": 307
        },
        "outputId": "ac50cbc8-2d12-4365-b148-169a98879ca1"
      },
      "source": [
        "# usando o fig da biblioteca do matplotlib\n",
        "fig = plt.figure(\n",
        "    # selecionar o Waffle\n",
        "    FigureClass = Waffle,\n",
        "    rows=5,\n",
        "    columns=12,\n",
        "    # receber o dicionario com os nomes\n",
        "    values = candidatos,\n",
        "    # cores\n",
        "    colors=[\"#53A0FF\", \"#FC2A00\", \"#0EFF64\", '#FDA7F1', '#C2CFC7', '#FDE79D'],\n",
        "    # posição que irá ficar a legenda com os nomes\n",
        "    legend= {'loc': 'upper left',\n",
        "             'bbox_to_anchor':(1.1, 1)},\n",
        "    # Plotar com ícone do 'homenzinho'\n",
        "    icons='child',\n",
        "    # tamanho total do gráfico\n",
        "    figsize=(20, 5)\n",
        ")\n",
        "\n",
        "fig.set_tight_layout(False)\n",
        "\n",
        "plt.show()"
      ],
      "execution_count": null,
      "outputs": [
        {
          "output_type": "display_data",
          "data": {
            "image/png": "[encoded data removed]",
            "text/plain": [
              "<Waffle size 1440x360 with 1 Axes>"
            ]
          },
          "metadata": {
            "tags": [],
            "needs_background": "light"
          }
        }
      ]
    },
    {
      "cell_type": "markdown",
      "metadata": {
        "id": "V4Wk4vfCPaGn",
        "colab_type": "text"
      },
      "source": [
        "Fontes:\n",
        "\n",
        "* http://g1.globo.com/ba/bahia/eleicoes/2016/apuracao/salvador.html\n",
        "* https://pt.wikipedia.org/wiki/Elei%C3%A7%C3%A3o_municipal_de_Salvador_em_2016\n",
        "* https://pt.wikipedia.org/wiki/Waffle\n",
        "* https://github.com/gyli/PyWaffle"
      ]
    }
  ]
}